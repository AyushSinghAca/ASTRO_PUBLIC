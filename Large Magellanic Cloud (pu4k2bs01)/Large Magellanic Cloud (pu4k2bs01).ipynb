{
 "cells": [
  {
   "cell_type": "code",
   "execution_count": 6,
   "id": "32b34320-83c1-491f-a86e-86f90164d074",
   "metadata": {},
   "outputs": [
    {
     "name": "stdout",
     "output_type": "stream",
     "text": [
      "over\n"
     ]
    }
   ],
   "source": [
    "# Large Magellanic Cloud (pu4k2bs01)\n",
    "# Source: https://archive.stsci.edu/prepds/appp/lmc.html\n",
    "\n",
    "import numpy as np\n",
    "from astropy.io import fits\n",
    "import matplotlib.pyplot as plt\n",
    "from astropy.visualization import make_lupton_rgb\n",
    "\n",
    "# Load the FITS images for different filters\n",
    "image_r = fits.getdata(\"h_pu4k2bs01_f814w_sci_v20.fits\") #  F814W (infrared)\n",
    "image_g = fits.getdata(\"h_pu4k2bs01_f606w_sci_v20.fits\") #  F606W (visible)\n",
    "image_b = fits.getdata(\"h_pu4k2bs01_f450w_sci_v20.fits\") #  F450W (blue)\n",
    "\n",
    "# normalize intensity t0 99%\n",
    "p_r, p_g, p_b = np.percentile(image_r, 99), np.percentile(image_g, 99), np.percentile(image_b, 99)\n",
    "\n",
    "# Scale images to enhance contrast in image\n",
    "image_r = image_r / p_r\n",
    "image_g = image_g / p_g\n",
    "image_b = image_b / p_b\n",
    "\n",
    "# Create an RGB composite with adjusted stretch and Q values\n",
    "# \"for\" loop is used to get as many image you want at different streched values\n",
    "for s in np.linspace(0.1, 5, 100):  # \n",
    "    image = make_lupton_rgb(image_r, image_g, image_b, stretch=s, Q=8)\n",
    "    \n",
    "    filename = f'lmc_stretch_{s:.2f}.jpg' # different file name for different image\n",
    "    plt.imsave(filename, image)\n",
    "    \n",
    "print(\"over\") # just to see whether program is  over or not yet.\n",
    "\n",
    "\n"
   ]
  }
 ],
 "metadata": {
  "kernelspec": {
   "display_name": "Python 3 (ipykernel)",
   "language": "python",
   "name": "python3"
  },
  "language_info": {
   "codemirror_mode": {
    "name": "ipython",
    "version": 3
   },
   "file_extension": ".py",
   "mimetype": "text/x-python",
   "name": "python",
   "nbconvert_exporter": "python",
   "pygments_lexer": "ipython3",
   "version": "3.13.2"
  }
 },
 "nbformat": 4,
 "nbformat_minor": 5
}
